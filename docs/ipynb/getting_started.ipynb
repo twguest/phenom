{
 "cells": [
  {
   "cell_type": "code",
   "execution_count": 1,
   "id": "8d2c4cca",
   "metadata": {},
   "outputs": [],
   "source": [
    "import numpy as np\n",
    "from matplotlib import pyplot as plt"
   ]
  },
  {
   "cell_type": "code",
   "execution_count": 14,
   "id": "46eb47f3",
   "metadata": {},
   "outputs": [],
   "source": [
    "from phenom.spectrum import linear_SASE_spectrum\n",
    "from phenom.gaussian import complex_gaussian_beam\n",
    "from phenom.wavefront import wavefront_tilt, Wavefront\n",
    "from phenom.source import Source\n",
    "from phenom.mesh import Mesh"
   ]
  },
  {
   "cell_type": "code",
   "execution_count": 15,
   "id": "019734fd",
   "metadata": {},
   "outputs": [],
   "source": [
    "nx = ny = nt = 512\n",
    "dx = dy = 1e-06\n",
    "pulse_duration = 25e-15\n",
    "photon_energy = 9200\n",
    "dE = 1e-04\n",
    "\n"
   ]
  },
  {
   "cell_type": "code",
   "execution_count": 16,
   "id": "97e56c5e",
   "metadata": {},
   "outputs": [],
   "source": [
    "def generate_pulse(mesh):\n",
    "    pass"
   ]
  },
  {
   "cell_type": "code",
   "execution_count": 17,
   "id": "5e29f99a",
   "metadata": {},
   "outputs": [],
   "source": [
    "x = y =np.linspace(-500e-03, 500e-03, 500)\n",
    "t = np.linspace(-50e-15, 50e-15)\n",
    "\n",
    "mesh = Mesh(x = x, y = y, t = t)"
   ]
  },
  {
   "cell_type": "code",
   "execution_count": 19,
   "id": "603737ad",
   "metadata": {},
   "outputs": [
    {
     "ename": "NameError",
     "evalue": "name 'bandwidth' is not defined",
     "output_type": "error",
     "traceback": [
      "Traceback \u001b[0;36m(most recent call last)\u001b[0m:\n",
      "\u001b[0;36m  Cell \u001b[0;32mIn[19], line 3\u001b[0;36m\n\u001b[0;31m    bandwidth = bandwidth,\u001b[0;36m\n",
      "\u001b[0;31mNameError\u001b[0m\u001b[0;31m:\u001b[0m name 'bandwidth' is not defined\n"
     ]
    }
   ],
   "source": [
    "spectrum = linear_SASE_spectrum(pulse_duration = pulse_duration,\n",
    "                                photon_energy = photon_energy,\n",
    "                                bandwidth = bandwidth,\n",
    "                               t0 = nt, \n",
    "                               nt = nt,\n",
    "                            \n",
    "                               )"
   ]
  },
  {
   "cell_type": "code",
   "execution_count": null,
   "id": "d5fe7645",
   "metadata": {},
   "outputs": [],
   "source": [
    "linear_SASE_spectrum()"
   ]
  }
 ],
 "metadata": {
  "kernelspec": {
   "display_name": "Python 3 (Spyder)",
   "language": "python3",
   "name": "python3"
  },
  "language_info": {
   "codemirror_mode": {
    "name": "ipython",
    "version": 3
   },
   "file_extension": ".py",
   "mimetype": "text/x-python",
   "name": "python",
   "nbconvert_exporter": "python",
   "pygments_lexer": "ipython3",
   "version": "3.11.3"
  }
 },
 "nbformat": 4,
 "nbformat_minor": 5
}
