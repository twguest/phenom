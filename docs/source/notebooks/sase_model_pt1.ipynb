{
 "cells": [
  {
   "cell_type": "markdown",
   "id": "5ee3938b",
   "metadata": {},
   "source": [
    "# Generating Pulses\n",
    "\n",
    "Here is a demonstrastion of how to generate a single SASE pulse\n",
    "\n",
    "The 'sase.pulse' function generates an array containing a scalar complex electric field representation of an XFEL Source. The pulse function takes as its input the following parameters:\n",
    "\n",
    "1. Mesh Definition: numpy.ndarrays defining the extent of the wavefield array in space (m) and time (t)\n",
    "2. X-ray Properties: Photon energy (eV), Pulse energy (J), spectral bandwidth ($\\Delta E/E$)\n",
    "3. Gaussian Properties: Pulse width (m), Pulse duration (s) and Divergence half-angle ($\\theta$) \n",
    "4. Pulse Error: Spatial (m) and Temporal jitter (s), Transverse pointing error (rad.)\n",
    "\n",
    "See the module [documentation](https://twguest.github.io/phenom/API.html#phenom.source.sase_pulse) for more\n",
    "\n",
    "We begin by importing the sase_pulse function from the phenom.source module:"
   ]
  },
  {
   "cell_type": "markdown",
   "id": "4e1af635",
   "metadata": {},
   "source": [
    "## Generate a Single Pulse"
   ]
  },
  {
   "cell_type": "code",
   "execution_count": 1,
   "id": "1d1f79e8",
   "metadata": {},
   "outputs": [],
   "source": [
    "from phenom.source import sase_pulse\n",
    "from phenom.spectrum import linear_SASE_spectrum"
   ]
  },
  {
   "cell_type": "markdown",
   "id": "4c0c4011",
   "metadata": {},
   "source": [
    "from which we can define a pulse of arbitrary characteristics"
   ]
  },
  {
   "cell_type": "code",
   "execution_count": 3,
   "id": "04a17e35",
   "metadata": {},
   "outputs": [],
   "source": [
    "import numpy as np\n",
    "\n",
    "## define the spatial/temporal mesh\n",
    "x = y = np.linspace(-250e-06, 250e-06, 500) \n",
    "t = np.linspace(-25e-15, 25e-15, 250)\n",
    "\n",
    "sase = linear_SASE_spectrum(t, 5e-03 , 5e-15, 9200)\n",
    "\n",
    "## define the pulse\n",
    "pulse = sase_pulse(x = x,\n",
    "                   y = y,\n",
    "                   t = t,\n",
    "                   photon_energy = 9200.,\n",
    "                   pulse_energy = 1e-04,\n",
    "                   pulse_duration = 5e-15,\n",
    "                   bandwidth = 1e-12,\n",
    "                   sigma = 50e-06,\n",
    "                   div = 2.5e-03,\n",
    "                   x0 = 0.0,\n",
    "                   y0 = 0.0,\n",
    "                   t0 = 0.0,\n",
    "                   theta_x = 0.0,\n",
    "                   theta_y = 0.0\n",
    "                  )"
   ]
  },
  {
   "cell_type": "markdown",
   "id": "b276ddcc",
   "metadata": {},
   "source": [
    "We can visualise the spatial and temporal intensity properties of this field:"
   ]
  },
  {
   "cell_type": "code",
   "execution_count": 5,
   "id": "2060dc23",
   "metadata": {},
   "outputs": [
    {
     "data": {
      "text/plain": [
       "Text(0.5, 0, 'Time (fs)')"
      ]
     },
     "execution_count": 5,
     "metadata": {},
     "output_type": "execute_result"
    },
    {
     "data": {
      "image/png": "[encoded data removed]",
      "text/plain": [
       "<Figure size 648x216 with 3 Axes>"
      ]
     },
     "metadata": {},
     "output_type": "display_data"
    }
   ],
   "source": [
    "from matplotlib import pyplot as plt\n",
    "\n",
    "\n",
    "fig, [ax1, ax2] = plt.subplots(1,2, figsize = (9,3))\n",
    "\n",
    "### spatial intensity\n",
    "im = ax1.imshow((abs(pulse)**2).sum(axis = 2),\n",
    "                extent = [x.min() * 1e06,\n",
    "                          x.max() * 1e06,\n",
    "                          y.min() * 1e06,\n",
    "                          y.max() * 1e06],\n",
    "                cmap = 'bone'\n",
    "                )\n",
    "\n",
    "plt.colorbar(im, label = \"Intensity (W/mm$^2$)\", ax = ax1)\n",
    "\n",
    "ax1.set_xlabel('x ($\\mu$m)')\n",
    "ax1.set_ylabel('y ($\\mu$m)')\n",
    "\n",
    "\n",
    "ax2.plot(t*1e15, (abs(pulse)**2).sum(axis = (0,1)))\n",
    "ax2.set_xlabel(\"Time (fs)\")"
   ]
  },
  {
   "cell_type": "code",
   "execution_count": null,
   "id": "61d4cf76-440c-4eca-8888-c110d582d5b8",
   "metadata": {},
   "outputs": [],
   "source": []
  }
 ],
 "metadata": {
  "kernelspec": {
   "display_name": "Python 3 (Spyder)",
   "language": "python3",
   "name": "python3"
  },
  "language_info": {
   "codemirror_mode": {
    "name": "ipython",
    "version": 3
   },
   "file_extension": ".py",
   "mimetype": "text/x-python",
   "name": "python",
   "nbconvert_exporter": "python",
   "pygments_lexer": "ipython3",
   "version": "3.8.17"
  }
 },
 "nbformat": 4,
 "nbformat_minor": 5
}
