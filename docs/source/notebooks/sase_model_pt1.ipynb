{
 "cells": [
  {
   "cell_type": "markdown",
   "id": "2cef9784",
   "metadata": {},
   "source": [
    "# Usage\n",
    "## Generating a SASE pulse"
   ]
  },
  {
   "cell_type": "markdown",
   "id": "6fa03dc6",
   "metadata": {},
   "source": [
    "\n",
    "\n"
   ]
  },
  {
   "cell_type": "code",
   "execution_count": null,
   "id": "f34225a9",
   "metadata": {},
   "outputs": [],
   "source": [
    "from phenom.source import sase_pulse"
   ]
  },
  {
   "cell_type": "markdown",
   "id": "fc32da87",
   "metadata": {},
   "source": [
    ".. autosummary::\n",
    "\n",
    "   phenom.source.sase_pulse"
   ]
  },
  {
   "cell_type": "code",
   "execution_count": null,
   "id": "e4ed594b",
   "metadata": {},
   "outputs": [],
   "source": [
    "from phenom.gaussian import complex_gaussian_beam\n",
    "from phenom.wavefront import wavefront_tilt, Wavefront\n",
    "from phenom.source import Source\n",
    "from phenom.mesh import Mesh\n",
    "from phenom.gaussian import gaussian_1d"
   ]
  },
  {
   "cell_type": "code",
   "execution_count": null,
   "id": "3faa9fa6",
   "metadata": {},
   "outputs": [],
   "source": [
    "nx = ny = nt = 512\n",
    "dx = dy = 1e-06\n",
    "pulse_duration = 45e-15\n",
    "photon_energy = 9200\n",
    "pulse_energy = 5e-05\n",
    "bandwidth = 1e-03\n",
    "t0 = 0\n",
    "nt = 512\n"
   ]
  },
  {
   "cell_type": "code",
   "execution_count": null,
   "id": "69342975",
   "metadata": {},
   "outputs": [],
   "source": [
    "nx = ny = 512\n",
    "nt = 1024\n",
    "x = np.linspace(-500e-03, 500e-03, nx)\n",
    "y = np.linspace(-500e-03, 500e-03, ny)\n",
    "t = np.linspace(-200e-15, 200e-15, nt)\n"
   ]
  },
  {
   "cell_type": "code",
   "execution_count": null,
   "id": "a204feb6",
   "metadata": {},
   "outputs": [],
   "source": [
    "from phenom.spectrum import linear_SASE_spectrum\n",
    "\n",
    "tfield = linear_SASE_spectrum(pulse_duration = pulse_duration,\n",
    "                                photon_energy = photon_energy,\n",
    "                                bandwidth = bandwidth,\n",
    "                               t0 = t0,\n",
    "                              t = t\n",
    "                               )"
   ]
  },
  {
   "cell_type": "code",
   "execution_count": null,
   "id": "b467aab7",
   "metadata": {},
   "outputs": [],
   "source": []
  },
  {
   "cell_type": "code",
   "execution_count": null,
   "id": "efec4d58",
   "metadata": {},
   "outputs": [],
   "source": [
    "sfield = complex_gaussian_beam(x, y, photon_energy = photon_energy,pulse_energy = photon_energy,sigma = 50e-03,div = 1e-03,\n",
    "                              theta_x = 0, theta_y = 0, x0 = 0, y0 = 0)\n",
    "\n",
    "theta_x = theta_y = 500e-09\n",
    "tilt = wavefront_tilt(x = x, y = y, theta_x = theta_x, theta_y = theta_y, photon_energy = photon_energy)"
   ]
  },
  {
   "cell_type": "code",
   "execution_count": null,
   "id": "4eabc66c",
   "metadata": {},
   "outputs": [],
   "source": [
    "plt.imshow(abs(sfield)**2)\n",
    "plt.colorbar()"
   ]
  },
  {
   "cell_type": "code",
   "execution_count": null,
   "id": "b5c0ac8a",
   "metadata": {},
   "outputs": [],
   "source": [
    "plt.plot(t, abs(efield.mean(axis = (0,1))**2  ))"
   ]
  },
  {
   "cell_type": "code",
   "execution_count": null,
   "id": "0bd05a68",
   "metadata": {},
   "outputs": [],
   "source": [
    "plt.imshow( abs(efield.mean(axis = (-1)))**2 ) "
   ]
  },
  {
   "cell_type": "code",
   "execution_count": null,
   "id": "c3169d0a",
   "metadata": {},
   "outputs": [],
   "source": [
    "plt.imshow( np.angle( tilt[:,:]), cmap = 'hsv' )\n",
    "plt.colorbar()"
   ]
  },
  {
   "cell_type": "code",
   "execution_count": null,
   "id": "33049f22",
   "metadata": {},
   "outputs": [],
   "source": [
    "plt.imshow( np.angle( efield[:,:,].mean(-1)), cmap = 'hsv' )\n",
    "plt.colorbar()"
   ]
  },
  {
   "cell_type": "code",
   "execution_count": null,
   "id": "1eb49d3f",
   "metadata": {},
   "outputs": [],
   "source": [
    "plt.imshow( np.angle( sfield[:,:]), cmap = 'hsv' )\n",
    "plt.colorbar()\n"
   ]
  },
  {
   "cell_type": "code",
   "execution_count": null,
   "id": "64a5b497",
   "metadata": {},
   "outputs": [],
   "source": [
    "SASE"
   ]
  },
  {
   "cell_type": "code",
   "execution_count": null,
   "id": "ab8a5581",
   "metadata": {},
   "outputs": [],
   "source": []
  }
 ],
 "metadata": {
  "kernelspec": {
   "display_name": "Python 3 (Spyder)",
   "language": "python3",
   "name": "python3"
  },
  "language_info": {
   "codemirror_mode": {
    "name": "ipython",
    "version": 3
   },
   "file_extension": ".py",
   "mimetype": "text/x-python",
   "name": "python",
   "nbconvert_exporter": "python",
   "pygments_lexer": "ipython3",
   "version": "3.8.2"
  }
 },
 "nbformat": 4,
 "nbformat_minor": 5
}
