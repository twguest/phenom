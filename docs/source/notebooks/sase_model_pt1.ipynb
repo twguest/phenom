{
 "cells": [
  {
   "cell_type": "markdown",
   "metadata": {},
   "source": [
    "# Usage\n",
    "## Generating a SASE pulse"
   ]
  },
  {
   "cell_type": "markdown",
   "metadata": {},
   "source": [
    "\n",
    "\n"
   ]
  },
  {
   "cell_type": "code",
   "execution_count": null,
   "metadata": {},
   "outputs": [],
   "source": [
    "from phenom.source import sase_pulse"
   ]
  },
  {
   "cell_type": "markdown",
   "metadata": {},
   "source": [
    ".. autosummary::\n",
    "\n",
    "   phenom.source.sase_pulse"
   ]
  },
  {
   "cell_type": "code",
   "execution_count": 1,
   "metadata": {},
   "outputs": [],
   "source": [
    "import numpy as np\n",
    "from matplotlib import pyplot as plt\n",
    "from phenom.gaussian import complex_gaussian_beam\n",
    "from phenom.wavefront_tools import wavefront_tilt\n",
    "from phenom.source import Source\n",
    "from phenom.mesh import Mesh\n",
    "from phenom.gaussian import gaussian_1d"
   ]
  },
  {
   "cell_type": "code",
   "execution_count": null,
   "metadata": {},
   "outputs": [],
   "source": [
    "nx = ny = nt = 512\n",
    "dx = dy = 1e-06\n",
    "pulse_duration = 45e-15\n",
    "photon_energy = 9200\n",
    "pulse_energy = 5e-05\n",
    "bandwidth = 1e-03\n",
    "t0 = 0\n",
    "nt = 512\n"
   ]
  },
  {
   "cell_type": "code",
   "execution_count": null,
   "metadata": {},
   "outputs": [],
   "source": [
    "nx = ny = 512\n",
    "nt = 1024\n",
    "x = np.linspace(-500e-03, 500e-03, nx)\n",
    "y = np.linspace(-500e-03, 500e-03, ny)\n",
    "t = np.linspace(-200e-15, 200e-15, nt)\n"
   ]
  },
  {
   "cell_type": "code",
   "execution_count": null,
   "metadata": {},
   "outputs": [],
   "source": [
    "from phenom.spectrum import linear_SASE_spectrum\n",
    "\n",
    "tfield = linear_SASE_spectrum(pulse_duration = pulse_duration,\n",
    "                                photon_energy = photon_energy,\n",
    "                                bandwidth = bandwidth,\n",
    "                               t0 = t0,\n",
    "                              t = t\n",
    "                               )"
   ]
  },
  {
   "cell_type": "code",
   "execution_count": null,
   "metadata": {},
   "outputs": [],
   "source": []
  },
  {
   "cell_type": "code",
   "execution_count": null,
   "metadata": {},
   "outputs": [],
   "source": [
    "sfield = complex_gaussian_beam(x, y, photon_energy = photon_energy,pulse_energy = photon_energy,sigma = 50e-03,div = 1e-03,\n",
    "                              theta_x = 0, theta_y = 0, x0 = 0, y0 = 0)\n",
    "\n",
    "theta_x = theta_y = 500e-09\n",
    "tilt = wavefront_tilt(x = x, y = y, theta_x = theta_x, theta_y = theta_y, photon_energy = photon_energy)"
   ]
  },
  {
   "cell_type": "code",
   "execution_count": null,
   "metadata": {},
   "outputs": [],
   "source": [
    "plt.imshow(abs(sfield)**2)\n",
    "plt.colorbar()"
   ]
  },
  {
   "cell_type": "code",
   "execution_count": null,
   "metadata": {},
   "outputs": [],
   "source": [
    "plt.plot(t, abs(efield.mean(axis = (0,1))**2  ))"
   ]
  },
  {
   "cell_type": "code",
   "execution_count": null,
   "metadata": {},
   "outputs": [],
   "source": [
    "plt.imshow( abs(efield.mean(axis = (-1)))**2 ) "
   ]
  },
  {
   "cell_type": "code",
   "execution_count": null,
   "metadata": {},
   "outputs": [],
   "source": [
    "plt.imshow( np.angle( tilt[:,:]), cmap = 'hsv' )\n",
    "plt.colorbar()"
   ]
  },
  {
   "cell_type": "code",
   "execution_count": null,
   "metadata": {},
   "outputs": [],
   "source": [
    "plt.imshow( np.angle( efield[:,:,].mean(-1)), cmap = 'hsv' )\n",
    "plt.colorbar()"
   ]
  },
  {
   "cell_type": "code",
   "execution_count": null,
   "metadata": {},
   "outputs": [],
   "source": [
    "plt.imshow( np.angle( sfield[:,:]), cmap = 'hsv' )\n",
    "plt.colorbar()\n"
   ]
  },
  {
   "cell_type": "code",
   "execution_count": null,
   "metadata": {},
   "outputs": [],
   "source": [
    "SASE"
   ]
  },
  {
   "cell_type": "code",
   "execution_count": null,
   "metadata": {},
   "outputs": [],
   "source": []
  }
 ],
 "metadata": {
  "kernelspec": {
   "display_name": "Python 3 (Spyder)",
   "language": "python3",
   "name": "python3"
  },
  "language_info": {
   "codemirror_mode": {
    "name": "ipython",
    "version": 3
   },
   "file_extension": ".py",
   "mimetype": "text/x-python",
   "name": "python",
   "nbconvert_exporter": "python",
   "pygments_lexer": "ipython3",
   "version": "3.8.2"
  }
 },
 "nbformat": 4,
 "nbformat_minor": 5
}
