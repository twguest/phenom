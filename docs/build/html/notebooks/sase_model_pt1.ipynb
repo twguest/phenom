{
 "cells": [
  {
   "cell_type": "markdown",
   "id": "6d292a8c",
   "metadata": {},
   "source": [
    "# Usage\n",
    "## Generating a SASE pulse"
   ]
  },
  {
   "cell_type": "markdown",
   "id": "68a59b9a",
   "metadata": {},
   "source": [
    "\n",
    "\n"
   ]
  },
  {
   "cell_type": "code",
   "execution_count": 1,
   "id": "c23fffd5",
   "metadata": {},
   "outputs": [],
   "source": [
    "import numpy as np\n",
    "from phenom.source import sase_pulse"
   ]
  },
  {
   "cell_type": "markdown",
   "id": "336a81cb",
   "metadata": {},
   "source": [
    ".. autosummary::\n",
    "\n",
    "   phenom.source.sase_pulse"
   ]
  },
  {
   "cell_type": "code",
   "execution_count": null,
   "id": "6d24e2cd",
   "metadata": {},
   "outputs": [],
   "source": [
    "from phenom.gaussian import complex_gaussian_beam\n",
    "from phenom.wavefront_tools import wavefront_tilt\n",
    "from phenom.source import Source\n",
    "from phenom.mesh import Mesh\n",
    "from phenom.gaussian import gaussian_1d"
   ]
  },
  {
   "cell_type": "code",
   "execution_count": null,
   "id": "d6ef0a33",
   "metadata": {},
   "outputs": [],
   "source": [
    "nx = ny = nt = 512\n",
    "dx = dy = 1e-06\n",
    "pulse_duration = 45e-15\n",
    "photon_energy = 9200\n",
    "pulse_energy = 5e-05\n",
    "bandwidth = 1e-03\n",
    "t0 = 0\n",
    "nt = 512\n"
   ]
  },
  {
   "cell_type": "code",
   "execution_count": null,
   "id": "58601e85",
   "metadata": {},
   "outputs": [],
   "source": [
    "nx = ny = 512\n",
    "nt = 1024\n",
    "x = np.linspace(-500e-03, 500e-03, nx)\n",
    "y = np.linspace(-500e-03, 500e-03, ny)\n",
    "t = np.linspace(-200e-15, 200e-15, nt)\n"
   ]
  },
  {
   "cell_type": "code",
   "execution_count": null,
   "id": "4e15c61e",
   "metadata": {},
   "outputs": [],
   "source": [
    "from phenom.spectrum import linear_SASE_spectrum\n",
    "\n",
    "tfield = linear_SASE_spectrum(pulse_duration = pulse_duration,\n",
    "                                photon_energy = photon_energy,\n",
    "                                bandwidth = bandwidth,\n",
    "                               t0 = t0,\n",
    "                              t = t\n",
    "                               )"
   ]
  },
  {
   "cell_type": "code",
   "execution_count": null,
   "id": "927ef2ba",
   "metadata": {},
   "outputs": [],
   "source": []
  },
  {
   "cell_type": "code",
   "execution_count": null,
   "id": "abea6f97",
   "metadata": {},
   "outputs": [],
   "source": [
    "sfield = complex_gaussian_beam(x, y, photon_energy = photon_energy,pulse_energy = photon_energy,sigma = 50e-03,div = 1e-03,\n",
    "                              theta_x = 0, theta_y = 0, x0 = 0, y0 = 0)\n",
    "\n",
    "theta_x = theta_y = 500e-09\n",
    "tilt = wavefront_tilt(x = x, y = y, theta_x = theta_x, theta_y = theta_y, photon_energy = photon_energy)"
   ]
  },
  {
   "cell_type": "code",
   "execution_count": null,
   "id": "5c8d891f",
   "metadata": {},
   "outputs": [],
   "source": [
    "plt.imshow(abs(sfield)**2)\n",
    "plt.colorbar()"
   ]
  },
  {
   "cell_type": "code",
   "execution_count": null,
   "id": "da2faa4a",
   "metadata": {},
   "outputs": [],
   "source": [
    "plt.plot(t, abs(efield.mean(axis = (0,1))**2  ))"
   ]
  },
  {
   "cell_type": "code",
   "execution_count": null,
   "id": "e9017f80",
   "metadata": {},
   "outputs": [],
   "source": [
    "plt.imshow( abs(efield.mean(axis = (-1)))**2 ) "
   ]
  },
  {
   "cell_type": "code",
   "execution_count": null,
   "id": "fbe0948f",
   "metadata": {},
   "outputs": [],
   "source": [
    "plt.imshow( np.angle( tilt[:,:]), cmap = 'hsv' )\n",
    "plt.colorbar()"
   ]
  },
  {
   "cell_type": "code",
   "execution_count": null,
   "id": "7c8942ae",
   "metadata": {},
   "outputs": [],
   "source": [
    "plt.imshow( np.angle( efield[:,:,].mean(-1)), cmap = 'hsv' )\n",
    "plt.colorbar()"
   ]
  },
  {
   "cell_type": "code",
   "execution_count": null,
   "id": "20434144",
   "metadata": {},
   "outputs": [],
   "source": [
    "plt.imshow( np.angle( sfield[:,:]), cmap = 'hsv' )\n",
    "plt.colorbar()\n"
   ]
  },
  {
   "cell_type": "code",
   "execution_count": null,
   "id": "85351361",
   "metadata": {},
   "outputs": [],
   "source": [
    "SASE"
   ]
  },
  {
   "cell_type": "code",
   "execution_count": null,
   "id": "74282b30",
   "metadata": {},
   "outputs": [],
   "source": []
  }
 ],
 "metadata": {
  "kernelspec": {
   "display_name": "Python 3 (Spyder)",
   "language": "python3",
   "name": "python3"
  },
  "language_info": {
   "codemirror_mode": {
    "name": "ipython",
    "version": 3
   },
   "file_extension": ".py",
   "mimetype": "text/x-python",
   "name": "python",
   "nbconvert_exporter": "python",
   "pygments_lexer": "ipython3",
   "version": "3.8.2"
  }
 },
 "nbformat": 4,
 "nbformat_minor": 5
}
