{
 "cells": [
  {
   "cell_type": "markdown",
   "id": "7e1b2065",
   "metadata": {},
   "source": [
    "======\n",
    "PHENOM\n",
    "======\n",
    "\n",
    ".. image:: https://github.com/twguest/phenom/actions/workflows/testing.yml/badge.svg\n",
    "   :target: https://github.com/twguest/phenom/actions/workflows/testing.yml\n",
    "\n",
    "\n",
    ".. image:: https://img.shields.io/pypi/v/phenom.svg\n",
    "        :target: https://pypi.python.org/pypi/phenom_xfel\n",
    "\n",
    "\n",
    "A **phenom**enological model of X-ray Free Electron Laser (XFEL) radiation.\n",
    "\n",
    "The PHENOM python package is designed to provide a simple, robust and computationally efficient method for generating representations of the complex wavefield of X-ray Free Electron Laser pulses. By making use of approximate representations of pulse wavefront and [spectra](https://www.osapublishing.org/abstract.cfm?URI=ol-35-20-3441), phenom allows large ensembles of photon pulses with arbitrary statistics to be generated in a truly python-ised manner.\n",
    "\n",
    "## Getting Started\n",
    "At the command line::\n",
    "\n",
    "    $ pip install phenom-xfel\n",
    "\n",
    "To check that your instillation has worked, open iPython and try::\n",
    "\n",
    "    $ import phenom\n",
    "    \n",
    "For more information on usage, see the docs [here](https://twguest.github.io/phenom).\n",
    "\n",
    "## Background\n",
    "The phenomenological SASE model consists of two primary functions:\n",
    "\n",
    "1. SASE pulse spectrum\n",
    "2. Gaussian beam profile\n",
    "\n",
    "Application of the model is based on the assumption that time-varying fluctuations in these wavefield components are sufficient to describe much of the shot-to-shot statistical properties of XFEL radiation.\n",
    "\n",
    "## Examples\n",
    "\n",
    "## Features\n",
    "\n",
    "## References\n",
    "\n",
    "## Articles citing PHENOM\n",
    "\n",
    "## Contributors\n",
    "\n",
    "## Get Involved"
   ]
  },
  {
   "cell_type": "code",
   "execution_count": 1,
   "id": "c1209268",
   "metadata": {
    "execution": {
     "iopub.execute_input": "2023-07-06T13:33:33.942915Z",
     "iopub.status.busy": "2023-07-06T13:33:33.942478Z",
     "iopub.status.idle": "2023-07-06T13:33:34.143511Z",
     "shell.execute_reply": "2023-07-06T13:33:34.142929Z"
    }
   },
   "outputs": [],
   "source": [
    "from phenom.source import sase_pulse"
   ]
  },
  {
   "cell_type": "markdown",
   "id": "1f2f1a6a",
   "metadata": {},
   "source": [
    ".. autosummary::\n",
    "\n",
    "   phenom.source.sase_pulse"
   ]
  },
  {
   "cell_type": "code",
   "execution_count": 2,
   "id": "8b91c878",
   "metadata": {
    "execution": {
     "iopub.execute_input": "2023-07-06T13:33:34.146568Z",
     "iopub.status.busy": "2023-07-06T13:33:34.146299Z",
     "iopub.status.idle": "2023-07-06T13:33:34.383443Z",
     "shell.execute_reply": "2023-07-06T13:33:34.383054Z"
    }
   },
   "outputs": [],
   "source": [
    "import numpy as np\n",
    "from matplotlib import pyplot as plt\n",
    "from phenom.gaussian import complex_gaussian_beam\n",
    "from phenom.wavefront_tools import wavefront_tilt\n",
    "from phenom.source import Source\n",
    "from phenom.mesh import Mesh\n",
    "from phenom.gaussian import gaussian_1d"
   ]
  },
  {
   "cell_type": "code",
   "execution_count": 3,
   "id": "d07c0c2d",
   "metadata": {
    "execution": {
     "iopub.execute_input": "2023-07-06T13:33:34.385483Z",
     "iopub.status.busy": "2023-07-06T13:33:34.385309Z",
     "iopub.status.idle": "2023-07-06T13:33:34.387575Z",
     "shell.execute_reply": "2023-07-06T13:33:34.387267Z"
    }
   },
   "outputs": [],
   "source": [
    "nx = ny = nt = 512\n",
    "dx = dy = 1e-06\n",
    "pulse_duration = 45e-15\n",
    "photon_energy = 9200\n",
    "pulse_energy = 5e-05\n",
    "bandwidth = 1e-03\n",
    "t0 = 0\n",
    "nt = 512\n"
   ]
  },
  {
   "cell_type": "code",
   "execution_count": 4,
   "id": "42e1ab64",
   "metadata": {
    "execution": {
     "iopub.execute_input": "2023-07-06T13:33:34.389211Z",
     "iopub.status.busy": "2023-07-06T13:33:34.389085Z",
     "iopub.status.idle": "2023-07-06T13:33:34.391338Z",
     "shell.execute_reply": "2023-07-06T13:33:34.391062Z"
    }
   },
   "outputs": [],
   "source": [
    "nx = ny = 512\n",
    "nt = 1024\n",
    "x = np.linspace(-500e-03, 500e-03, nx)\n",
    "y = np.linspace(-500e-03, 500e-03, ny)\n",
    "t = np.linspace(-200e-15, 200e-15, nt)\n"
   ]
  },
  {
   "cell_type": "code",
   "execution_count": 5,
   "id": "74d76aca",
   "metadata": {
    "execution": {
     "iopub.execute_input": "2023-07-06T13:33:34.392901Z",
     "iopub.status.busy": "2023-07-06T13:33:34.392779Z",
     "iopub.status.idle": "2023-07-06T13:33:34.395443Z",
     "shell.execute_reply": "2023-07-06T13:33:34.395164Z"
    }
   },
   "outputs": [],
   "source": [
    "from phenom.spectrum import linear_SASE_spectrum\n",
    "\n",
    "tfield = linear_SASE_spectrum(pulse_duration = pulse_duration,\n",
    "                                photon_energy = photon_energy,\n",
    "                                bandwidth = bandwidth,\n",
    "                               t0 = t0,\n",
    "                              t = t\n",
    "                               )"
   ]
  },
  {
   "cell_type": "code",
   "execution_count": null,
   "id": "36a46339",
   "metadata": {},
   "outputs": [],
   "source": []
  },
  {
   "cell_type": "code",
   "execution_count": 6,
   "id": "d9c9d236",
   "metadata": {
    "execution": {
     "iopub.execute_input": "2023-07-06T13:33:34.397197Z",
     "iopub.status.busy": "2023-07-06T13:33:34.397075Z",
     "iopub.status.idle": "2023-07-06T13:33:34.420404Z",
     "shell.execute_reply": "2023-07-06T13:33:34.419946Z"
    }
   },
   "outputs": [],
   "source": [
    "sfield = complex_gaussian_beam(x, y, photon_energy = photon_energy,pulse_energy = photon_energy,sigma = 50e-03,div = 1e-03,\n",
    "                              theta_x = 0, theta_y = 0, x0 = 0, y0 = 0)\n",
    "\n",
    "theta_x = theta_y = 500e-09\n",
    "tilt = wavefront_tilt(x = x, y = y, theta_x = theta_x, theta_y = theta_y, photon_energy = photon_energy)"
   ]
  }
 ],
 "metadata": {
  "kernelspec": {
   "display_name": "Python 3 (Spyder)",
   "language": "python3",
   "name": "python3"
  },
  "language_info": {
   "codemirror_mode": {
    "name": "ipython",
    "version": 3
   },
   "file_extension": ".py",
   "mimetype": "text/x-python",
   "name": "python",
   "nbconvert_exporter": "python",
   "pygments_lexer": "ipython3",
   "version": "3.11.3"
  }
 },
 "nbformat": 4,
 "nbformat_minor": 5
}
